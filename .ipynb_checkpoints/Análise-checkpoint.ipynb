{
 "cells": [
  {
   "cell_type": "code",
   "execution_count": 3,
   "metadata": {},
   "outputs": [
    {
     "name": "stdout",
     "output_type": "stream",
     "text": [
      "OrderedDict([('MINER;A;A;A;48', 'SISCAER;C;B;A;0'), ('3%;1', '0%;0'), ('2%', '0%')])\n"
     ]
    }
   ],
   "source": [
    "import unicodecsv\n",
    "\n",
    "#usando uma função\n",
    "\n",
    "def ler_arquivo(arquivo):\n",
    "    with open(arquivo, 'rb') as r:\n",
    "        leitura = unicodecsv.DictReader(r)\n",
    "        return list(leitura)\n",
    "\n",
    "#criando um setup\n",
    "dados = 'sonar.csv'\n",
    "\n",
    "#processando\n",
    "saida = ler_arquivo(dados)\n",
    "\n",
    "#saída\n",
    "print(saida[0])"
   ]
  },
  {
   "cell_type": "code",
   "execution_count": 4,
   "metadata": {},
   "outputs": [
    {
     "name": "stdout",
     "output_type": "stream",
     "text": [
      "OrderedDict([('MINER;A;A;A;48', 'SISCAER;C;B;A;0'), ('3%;1', '0%;0'), ('2%', '0%')])\n"
     ]
    }
   ],
   "source": [
    "import unicodecsv\n",
    "\n",
    "## fromato complexo\n",
    "\n",
    "dados = []\n",
    "f = open('sonar.csv', 'rb')\n",
    "reader = unicodecsv.DictReader(f)\n",
    "for row in reader:\n",
    "     dados.append(row)\n",
    "f.close()\n",
    "\n",
    "print(dados[0])"
   ]
  },
  {
   "cell_type": "code",
   "execution_count": 2,
   "metadata": {},
   "outputs": [
    {
     "name": "stdout",
     "output_type": "stream",
     "text": [
      "OrderedDict([('acct', '0'), ('utc_date', '2015-01-09'), ('num_courses_visited', '1.0'), ('total_minutes_visited', '11.6793745'), ('lessons_completed', '0.0'), ('projects_completed', '0.0')])\n"
     ]
    }
   ],
   "source": [
    "import unicodecsv\n",
    "\n",
    "#usando uma função\n",
    "\n",
    "def ler_arquivo(arquivo):\n",
    "    with open(arquivo, 'rb') as r:\n",
    "        leitura = unicodecsv.DictReader(r)\n",
    "        return list(leitura)\n",
    "\n",
    "#criando um setup\n",
    "dados = 'daily_engagement.csv'\n",
    "\n",
    "#processando\n",
    "saida = ler_arquivo(dados)\n",
    "\n",
    "#saída\n",
    "print(saida[0])"
   ]
  },
  {
   "cell_type": "markdown",
   "metadata": {},
   "source": [
    "Arquivos CSV são largamente usados em tarefas de data mining por serem comumente oriundos de exportação de planilhas e bancos de dados relacionais. São arquivos-texto com algum separador de dados, sendo a vírgula o mais comum deles."
   ]
  },
  {
   "cell_type": "code",
   "execution_count": 17,
   "metadata": {},
   "outputs": [
    {
     "name": "stdout",
     "output_type": "stream",
     "text": [
      "b'id;nome;posicao;descricao\\r\\n'\n"
     ]
    }
   ],
   "source": [
    "import csv\n",
    "\n",
    "dados = []\n",
    "# lemos o arquivo CSV em disco \n",
    "conteudo = open('dados.csv','rb')\n",
    "listas = csv.reader(conteudo)\n",
    "\n",
    "# montamos o for para listar as equipes\n",
    "for item in conteudo:\n",
    "    dados.append(item)\n",
    "\n",
    "print(dados[0])\n"
   ]
  }
 ],
 "metadata": {
  "kernelspec": {
   "display_name": "Python 3",
   "language": "python",
   "name": "python3"
  },
  "language_info": {
   "codemirror_mode": {
    "name": "ipython",
    "version": 3
   },
   "file_extension": ".py",
   "mimetype": "text/x-python",
   "name": "python",
   "nbconvert_exporter": "python",
   "pygments_lexer": "ipython3",
   "version": "3.7.0"
  }
 },
 "nbformat": 4,
 "nbformat_minor": 2
}
