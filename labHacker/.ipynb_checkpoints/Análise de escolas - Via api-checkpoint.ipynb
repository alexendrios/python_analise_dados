{
 "cells": [
  {
   "cell_type": "markdown",
   "metadata": {},
   "source": [
    "<h1>Análise de Escolas Via api</h1>\n"
   ]
  },
  {
   "cell_type": "code",
   "execution_count": 2,
   "metadata": {},
   "outputs": [],
   "source": [
    "#link :http://educacao.dadosabertosbr.com/api/escolas/buscaavancada?situacaoFuncionamento=1&energiaInexistente=on&aguaInexistente=on&esgotoInexistente=on&cozinha=on"
   ]
  },
  {
   "cell_type": "code",
   "execution_count": 10,
   "metadata": {},
   "outputs": [],
   "source": [
    "import pandas as pd\n",
    "import requests\n",
    "%matplotlib inline"
   ]
  },
  {
   "cell_type": "code",
   "execution_count": 7,
   "metadata": {},
   "outputs": [],
   "source": [
    "link = 'http://educacao.dadosabertosbr.com/api/escolas/buscaavancada?situacaoFuncionamento=1&energiaInexistente=on&aguaInexistente=on&esgotoInexistente=on&cozinha=on'"
   ]
  },
  {
   "cell_type": "code",
   "execution_count": 12,
   "metadata": {},
   "outputs": [
    {
     "data": {
      "text/plain": [
       "'[538,[{\"anoCenso\":2013,\"cod\":41036026,\"nome\":\"BAIRRO DOS MENDES E R M EF\",\"codCidade\":4104402,\"cidade\":\"CANDIDO DE ABREU\",\"estado\":\"PR\",\"regiao\":\"Sul\",\"situacaoFuncionamento\":1,\"dependenciaAdministrativa\":3,\"idebAI\":0.0,\"idebAF\":0.0,\"enemMediaGeral\":0.0,\"dependenciaAdministrativaTxt\":\"Municipal\",\"situacaoFuncionamentoTxt\":\"Em atividade\"},{\"anoCenso\":2013,\"cod\":15008258,\"nome\":\"E M E F AGUA AZUL\",\"codCidade\":1504802,\"cidade\":\"MONTE ALEGRE\",\"estado\":\"PA\",\"regiao\":\"Norte\",\"situacaoFuncionamento\":1,\"dependenciaAdministrativa\":3,\"idebAI\":0.0,\"idebAF\":0.0,\"enemMediaGeral\":0.0,\"dependenciaAdministrativaTxt\":\"Municipal\",\"situacaoFuncionamentoTxt\":\"Em atividade\"},{\"anoCenso\":2013,\"cod\":15534340,\"nome\":\"E M E F AGUA BOA\",\"codCidade\":1505650,\"cidade\":\"PLACAS\",\"estado\":\"PA\",\"regiao\":\"Norte\",\"situacaoFuncionamento\":1,\"dependenciaAdministrativa\":3,\"idebAI\":0.0,\"idebAF\":0.0,\"enemMediaGeral\":0.0,\"dependenciaAdministrativaTxt\":\"Municipal\",\"situacaoFuncionamentoTxt\":\"Em atividade\"},{\"anoCenso\":2013,\"cod\":15525821,\"nome\":\"E M E F AMAZONIA\",\"codCidade\":1505064,\"cidade\":\"NOVO REPARTIMENTO\",\"estado\":\"PA\",\"regiao\":\"Norte\",\"situacaoFuncionamento\":1,\"dependenciaAdministrativa\":3,\"idebAI\":0.0,\"idebAF\":0.0,\"enemMediaGeral\":0.0,\"dependenciaAdministrativaTxt\":\"Municipal\",\"situacaoFuncionamentoTxt\":\"Em atividade\"},{\"anoCenso\":2013,\"cod\":15022790,\"nome\":\"E M E F AMELIA HOLANDA\",\"codCidade\":1500305,\"cidade\":\"AFUA\",\"estado\":\"PA\",\"regiao\":\"Norte\",\"situacaoFuncionamento\":1,\"dependenciaAdministrativa\":3,\"idebAI\":0.0,\"idebAF\":0.0,\"enemMediaGeral\":0.0,\"dependenciaAdministrativaTxt\":\"Municipal\",\"situacaoFuncionamentoTxt\":\"Em atividade\"},{\"anoCenso\":2013,\"cod\":15077179,\"nome\":\"E M E F AMERICO BRASIL\",\"codCidade\":1505205,\"cidade\":\"OEIRAS DO PARA\",\"estado\":\"PA\",\"regiao\":\"Norte\",\"situacaoFuncionamento\":1,\"dependenciaAdministrativa\":3,\"idebAI\":2.5,\"idebAF\":0.0,\"enemMediaGeral\":0.0,\"dependenciaAdministrativaTxt\":\"Municipal\",\"situacaoFuncionamentoTxt\":\"Em atividade\"},{\"anoCenso\":2013,\"cod\":15536580,\"nome\":\"E M E F ANJO DA GUARDA\",\"codCidade\":1504703,\"cidade\":\"MOJU\",\"estado\":\"PA\",\"regiao\":\"Norte\",\"situacaoFuncionamento\":1,\"dependenciaAdministrativa\":3,\"idebAI\":0.0,\"idebAF\":0.0,\"enemMediaGeral\":0.0,\"dependenciaAdministrativaTxt\":\"Municipal\",\"situacaoFuncionamentoTxt\":\"Em atividade\"},{\"anoCenso\":2013,\"cod\":15546721,\"nome\":\"E M E F APOSTOLO PAULO\",\"codCidade\":1500305,\"cidade\":\"AFUA\",\"estado\":\"PA\",\"regiao\":\"Norte\",\"situacaoFuncionamento\":1,\"dependenciaAdministrativa\":3,\"idebAI\":0.0,\"idebAF\":0.0,\"enemMediaGeral\":0.0,\"dependenciaAdministrativaTxt\":\"Municipal\",\"situacaoFuncionamentoTxt\":\"Em atividade\"},{\"anoCenso\":2013,\"cod\":15571173,\"nome\":\"E M E F ARARA AZUL\",\"codCidade\":1505064,\"cidade\":\"NOVO REPARTIMENTO\",\"estado\":\"PA\",\"regiao\":\"Norte\",\"situacaoFuncionamento\":1,\"dependenciaAdministrativa\":3,\"idebAI\":0.0,\"idebAF\":0.0,\"enemMediaGeral\":0.0,\"dependenciaAdministrativaTxt\":\"Municipal\",\"situacaoFuncionamentoTxt\":\"Em atividade\"},{\"anoCenso\":2013,\"cod\":15121771,\"nome\":\"E M E F ARCO IRIS\",\"codCidade\":1507300,\"cidade\":\"SAO FELIX DO XINGU\",\"estado\":\"PA\",\"regiao\":\"Norte\",\"situacaoFuncionamento\":1,\"dependenciaAdministrativa\":3,\"idebAI\":0.0,\"idebAF\":0.0,\"enemMediaGeral\":0.0,\"dependenciaAdministrativaTxt\":\"Municipal\",\"situacaoFuncionamentoTxt\":\"Em atividade\"},{\"anoCenso\":2013,\"cod\":15520340,\"nome\":\"E M E F BAIXO URUBUQUARA\",\"codCidade\":1502004,\"cidade\":\"CACHOEIRA DO ARARI\",\"estado\":\"PA\",\"regiao\":\"Norte\",\"situacaoFuncionamento\":1,\"dependenciaAdministrativa\":3,\"idebAI\":0.0,\"idebAF\":0.0,\"enemMediaGeral\":0.0,\"dependenciaAdministrativaTxt\":\"Municipal\",\"situacaoFuncionamentoTxt\":\"Em atividade\"},{\"anoCenso\":2013,\"cod\":15524418,\"nome\":\"E M E F BETEL\",\"codCidade\":1503457,\"cidade\":\"IPIXUNA DO PARA\",\"estado\":\"PA\",\"regiao\":\"Norte\",\"situacaoFuncionamento\":1,\"dependenciaAdministrativa\":3,\"idebAI\":0.0,\"idebAF\":0.0,\"enemMediaGeral\":0.0,\"dependenciaAdministrativaTxt\":\"Municipal\",\"situacaoFuncionamentoTxt\":\"Em atividade\"},{\"anoCenso\":2013,\"cod\":15008312,\"nome\":\"E M E F BOA ESPERANCA I\",\"codCidade\":1504802,\"cidade\":\"MONTE ALEGRE\",\"estado\":\"PA\",\"regiao\":\"Norte\",\"situacaoFuncionamento\":1,\"dependenciaAdministrativa\":3,\"idebAI\":0.0,\"idebAF\":0.0,\"enemMediaGeral\":0.0,\"dependenciaAdministrativaTxt\":\"Municipal\",\"situacaoFuncionamentoTxt\":\"Em atividade\"},{\"anoCenso\":2013,\"cod\":15568598,\"nome\":\"E M E F BOA UNIAO\",\"codCidade\":1505809,\"cidade\":\"PORTEL\",\"estado\":\"PA\",\"regiao\":\"Norte\",\"situacaoFuncionamento\":1,\"dependenciaAdministrativa\":3,\"idebAI\":0.0,\"idebAF\":0.0,\"enemMediaGeral\":0.0,\"dependenciaAdministrativaTxt\":\"Municipal\",\"situacaoFuncionamentoTxt\":\"Em atividade\"},{\"anoCenso\":2013,\"cod\":15094804,\"nome\":\"E M E F BOA VISTA\",\"codCidade\":1507201,\"cidade\":\"SAO DOMINGOS DO CAPIM\",\"estado\":\"PA\",\"regiao\":\"Norte\",\"situacaoFuncionamento\":1,\"dependenciaAdministrativa\":3,\"idebAI\":0.0,\"idebAF\":0.0,\"enemMediaGeral\":0.0,\"dependenciaAdministrativaTxt\":\"Municipal\",\"situacaoFuncionamentoTxt\":\"Em atividade\"},{\"anoCenso\":2013,\"cod\":15582566,\"nome\":\"E M E F BOCA PEQUENA NOVA\",\"codCidade\":1502004,\"cidade\":\"CACHOEIRA DO ARARI\",\"estado\":\"PA\",\"regiao\":\"Norte\",\"situacaoFuncionamento\":1,\"dependenciaAdministrativa\":3,\"idebAI\":0.0,\"idebAF\":0.0,\"enemMediaGeral\":0.0,\"dependenciaAdministrativaTxt\":\"Municipal\",\"situacaoFuncionamentoTxt\":\"Em atividade\"},{\"anoCenso\":2013,\"cod\":15544923,\"nome\":\"E M E F BRACO DO MEIO\",\"codCidade\":1508308,\"cidade\":\"VISEU\",\"estado\":\"PA\",\"regiao\":\"Norte\",\"situacaoFuncionamento\":1,\"dependenciaAdministrativa\":3,\"idebAI\":0.0,\"idebAF\":0.0,\"enemMediaGeral\":0.0,\"dependenciaAdministrativaTxt\":\"Municipal\",\"situacaoFuncionamentoTxt\":\"Em atividade\"},{\"anoCenso\":2013,\"cod\":15545679,\"nome\":\"E M E F CABECEIRA DO IGARAPE GRANDE\",\"codCidade\":1504802,\"cidade\":\"MONTE ALEGRE\",\"estado\":\"PA\",\"regiao\":\"Norte\",\"situacaoFuncionamento\":1,\"dependenciaAdministrativa\":3,\"idebAI\":0.0,\"idebAF\":0.0,\"enemMediaGeral\":0.0,\"dependenciaAdministrativaTxt\":\"Municipal\",\"situacaoFuncionamentoTxt\":\"Em atividade\"},{\"anoCenso\":2013,\"cod\":15119149,\"nome\":\"E M E F CANDIRUACU\",\"codCidade\":1503457,\"cidade\":\"IPIXUNA DO PARA\",\"estado\":\"PA\",\"regiao\":\"Norte\",\"situacaoFuncionamento\":1,\"dependenciaAdministrativa\":3,\"idebAI\":0.0,\"idebAF\":0.0,\"enemMediaGeral\":0.0,\"dependenciaAdministrativaTxt\":\"Municipal\",\"situacaoFuncionamentoTxt\":\"Em atividade\"},{\"anoCenso\":2013,\"cod\":15530140,\"nome\":\"E M E F CANOAS DE CIMA\",\"codCidade\":1508308,\"cidade\":\"VISEU\",\"estado\":\"PA\",\"regiao\":\"Norte\",\"situacaoFuncionamento\":1,\"dependenciaAdministrativa\":3,\"idebAI\":0.0,\"idebAF\":0.0,\"enemMediaGeral\":0.0,\"dependenciaAdministrativaTxt\":\"Municipal\",\"situacaoFuncionamentoTxt\":\"Em atividade\"},{\"anoCenso\":2013,\"cod\":15030792,\"nome\":\"E M E F CEL JOAO CANCIO DA SILVA BRABO II\",\"codCidade\":1504901,\"cidade\":\"MUANA\",\"estado\":\"PA\",\"regiao\":\"Norte\",\"situacaoFuncionamento\":1,\"dependenciaAdministrativa\":3,\"idebAI\":0.0,\"idebAF\":0.0,\"enemMediaGeral\":0.0,\"dependenciaAdministrativaTxt\":\"Municipal\",\"situacaoFuncionamentoTxt\":\"Em atividade\"},{\"anoCenso\":2013,\"cod\":15033414,\"nome\":\"E M E F CHEIA DE GRACA\",\"codCidade\":1506401,\"cidade\":\"SANTA CRUZ DO ARARI\",\"estado\":\"PA\",\"regiao\":\"Norte\",\"situacaoFuncionamento\":1,\"dependenciaAdministrativa\":3,\"idebAI\":0.0,\"idebAF\":0.0,\"enemMediaGeral\":0.0,\"dependenciaAdministrativaTxt\":\"Municipal\",\"situacaoFuncionamentoTxt\":\"Em atividade\"},{\"anoCenso\":2013,\"cod\":15158373,\"nome\":\"E M E F CICERO CORDEIRO\",\"codCidade\":1505486,\"cidade\":\"PACAJA\",\"estado\":\"PA\",\"regiao\":\"Norte\",\"situacaoFuncionamento\":1,\"dependenciaAdministrativa\":3,\"idebAI\":0.0,\"idebAF\":0.0,\"enemMediaGeral\":0.0,\"dependenciaAdministrativaTxt\":\"Municipal\",\"situacaoFuncionamentoTxt\":\"Em atividade\"},{\"anoCenso\":2013,\"cod\":15545520,\"nome\":\"E M E F CIPO\",\"codCidade\":1504802,\"cidade\":\"MONTE ALEGRE\",\"estado\":\"PA\",\"regiao\":\"Norte\",\"situacaoFuncionamento\":1,\"dependenciaAdministrativa\":3,\"idebAI\":0.0,\"idebAF\":0.0,\"enemMediaGeral\":0.0,\"dependenciaAdministrativaTxt\":\"Municipal\",\"situacaoFuncionamentoTxt\":\"Em atividade\"},{\"anoCenso\":2013,\"cod\":15102866,\"nome\":\"E M E F CRISTO REI\",\"codCidade\":1506195,\"cidade\":\"RUROPOLIS\",\"estado\":\"PA\",\"regiao\":\"Norte\",\"situacaoFuncionamento\":1,\"dependenciaAdministrativa\":3,\"idebAI\":0.0,\"idebAF\":0.0,\"enemMediaGeral\":0.0,\"dependenciaAdministrativaTxt\":\"Municipal\",\"situacaoFuncionamentoTxt\":\"Em atividade\"},{\"anoCenso\":2013,\"cod\":15028798,\"nome\":\"E M E F DE CAMARAU\",\"codCidade\":1502004,\"cidade\":\"CACHOEIRA DO ARARI\",\"estado\":\"PA\",\"regiao\":\"Norte\",\"situacaoFuncionamento\":1,\"dependenciaAdministrativa\":3,\"idebAI\":0.0,\"idebAF\":0.0,\"enemMediaGeral\":0.0,\"dependenciaAdministrativaTxt\":\"Municipal\",\"situacaoFuncionamentoTxt\":\"Em atividade\"},{\"anoCenso\":2013,\"cod\":15069699,\"nome\":\"E M E F DE CARACARA\",\"codCidade\":1502103,\"cidade\":\"CAMETA\",\"estado\":\"PA\",\"regiao\":\"Norte\",\"situacaoFuncionamento\":1,\"dependenciaAdministrativa\":3,\"idebAI\":0.0,\"idebAF\":0.0,\"enemMediaGeral\":0.0,\"dependenciaAdministrativaTxt\":\"Municipal\",\"situacaoFuncionamentoTxt\":\"Em atividade\"},{\"anoCenso\":2013,\"cod\":15009220,\"nome\":\"E M E F DE MATA GRANDE\",\"codCidade\":1504802,\"cidade\":\"MONTE ALEGRE\",\"estado\":\"PA\",\"regiao\":\"Norte\",\"situacaoFuncionamento\":1,\"dependenciaAdministrativa\":3,\"idebAI\":0.0,\"idebAF\":0.0,\"enemMediaGeral\":0.0,\"dependenciaAdministrativaTxt\":\"Municipal\",\"situacaoFuncionamentoTxt\":\"Em atividade\"},{\"anoCenso\":2013,\"cod\":15069273,\"nome\":\"E M E F DE VARZEA SAO JOSE\",\"codCidade\":1502103,\"cidade\":\"CAMETA\",\"estado\":\"PA\",\"regiao\":\"Norte\",\"situacaoFuncionamento\":1,\"dependenciaAdministrativa\":3,\"idebAI\":0.0,\"idebAF\":0.0,\"enemMediaGeral\":0.0,\"dependenciaAdministrativaTxt\":\"Municipal\",\"situacaoFuncionamentoTxt\":\"Em atividade\"},{\"anoCenso\":2013,\"cod\":15029484,\"nome\":\"E M E F DO CAMUTA\",\"codCidade\":1502509,\"cidade\":\"CHAVES\",\"estado\":\"PA\",\"regiao\":\"Norte\",\"situacaoFuncionamento\":1,\"dependenciaAdministrativa\":3,\"idebAI\":0.0,\"idebAF\":0.0,\"enemMediaGeral\":0.0,\"dependenciaAdministrativaTxt\":\"Municipal\",\"situacaoFuncionamentoTxt\":\"Em atividade\"},{\"anoCenso\":2013,\"cod\":15029522,\"nome\":\"E M E F DO VALERIO\",\"codCidade\":1502509,\"cidade\":\"CHAVES\",\"estado\":\"PA\",\"regiao\":\"Norte\",\"situacaoFuncionamento\":1,\"dependenciaAdministrativa\":3,\"idebAI\":0.0,\"idebAF\":0.0,\"enemMediaGeral\":0.0,\"dependenciaAdministrativaTxt\":\"Municipal\",\"situacaoFuncionamentoTxt\":\"Em atividade\"},{\"anoCenso\":2013,\"cod\":15094901,\"nome\":\"E M E F DOM BOSCO\",\"codCidade\":1507201,\"cidade\":\"SAO DOMINGOS DO CAPIM\",\"estado\":\"PA\",\"regiao\":\"Norte\",\"situacaoFuncionamento\":1,\"dependenciaAdministrativa\":3,\"idebAI\":0.0,\"idebAF\":0.0,\"enemMediaGeral\":0.0,\"dependenciaAdministrativaTxt\":\"Municipal\",\"situacaoFuncionamentoTxt\":\"Em atividade\"},{\"anoCenso\":2013,\"cod\":15031705,\"nome\":\"E M E F DOMINGOS BRABO\",\"codCidade\":1504901,\"cidade\":\"MUANA\",\"estado\":\"PA\",\"regiao\":\"Norte\",\"situacaoFuncionamento\":1,\"dependenciaAdministrativa\":3,\"idebAI\":0.0,\"idebAF\":0.0,\"enemMediaGeral\":0.0,\"dependenciaAdministrativaTxt\":\"Municipal\",\"situacaoFuncionamentoTxt\":\"Em atividade\"},{\"anoCenso\":2013,\"cod\":15576116,\"nome\":\"E M E F EM CANOAS DE BAIXO\",\"codCidade\":1508308,\"cidade\":\"VISEU\",\"estado\":\"PA\",\"regiao\":\"Norte\",\"situacaoFuncionamento\":1,\"dependenciaAdministrativa\":3,\"idebAI\":0.0,\"idebAF\":0.0,\"enemMediaGeral\":0.0,\"dependenciaAdministrativaTxt\":\"Municipal\",\"situacaoFuncionamentoTxt\":\"Em atividade\"},{\"anoCenso\":2013,\"cod\":15097773,\"nome\":\"E M E F EM CUMARU ITAPURITEUA\",\"codCidade\":1508308,\"cidade\":\"VISEU\",\"estado\":\"PA\",\"regiao\":\"Norte\",\"situacaoFuncionamento\":1,\"dependenciaAdministrativa\":3,\"idebAI\":0.0,\"idebAF\":0.0,\"enemMediaGeral\":0.0,\"dependenciaAdministrativaTxt\":\"Municipal\",\"situacaoFuncionamentoTxt\":\"Em atividade\"},{\"anoCenso\":2013,\"cod\":15576183,\"nome\":\"E M E F EM GEMEDOR\",\"codCidade\":1508308,\"cidade\":\"VISEU\",\"estado\":\"PA\",\"regiao\":\"Norte\",\"situacaoFuncionamento\":1,\"dependenciaAdministrativa\":3,\"idebAI\":0.0,\"idebAF\":0.0,\"enemMediaGeral\":0.0,\"dependenciaAdministrativaTxt\":\"Municipal\",\"situacaoFuncionamentoTxt\":\"Em atividade\"},{\"anoCenso\":2013,\"cod\":15153576,\"nome\":\"E M E F EM JACAMIM\",\"codCidade\":1508308,\"cidade\":\"VISEU\",\"estado\":\"PA\",\"regiao\":\"Norte\",\"situacaoFuncionamento\":1,\"dependenciaAdministrativa\":3,\"idebAI\":0.0,\"idebAF\":0.0,\"enemMediaGeral\":0.0,\"dependenciaAdministrativaTxt\":\"Municipal\",\"situacaoFuncionamentoTxt\":\"Em atividade\"},{\"anoCenso\":2013,\"cod\":15098362,\"nome\":\"E M E F EM JIBOIA\",\"codCidade\":1508308,\"cidade\":\"VISEU\",\"estado\":\"PA\",\"regiao\":\"Norte\",\"situacaoFuncionamento\":1,\"dependenciaAdministrativa\":3,\"idebAI\":0.0,\"idebAF\":0.0,\"enemMediaGeral\":0.0,\"dependenciaAdministrativaTxt\":\"Municipal\",\"situacaoFuncionamentoTxt\":\"Em atividade\"},{\"anoCenso\":2013,\"cod\":15097820,\"nome\":\"E M E F EM OLHO D AGUA\",\"codCidade\":1508308,\"cidade\":\"VISEU\",\"estado\":\"PA\",\"regiao\":\"Norte\",\"situacaoFuncionamento\":1,\"dependenciaAdministrativa\":3,\"idebAI\":0.0,\"idebAF\":0.0,\"enemMediaGeral\":0.0,\"dependenciaAdministrativaTxt\":\"Municipal\",\"situacaoFuncionamentoTxt\":\"Em atividade\"},{\"anoCenso\":2013,\"cod\":15153681,\"nome\":\"E M E F EM SETE BARRACAS\",\"codCidade\":1508308,\"cidade\":\"VISEU\",\"estado\":\"PA\",\"regiao\":\"Norte\",\"situacaoFuncionamento\":1,\"dependenciaAdministrativa\":3,\"idebAI\":0.0,\"idebAF\":0.0,\"enemMediaGeral\":0.0,\"dependenciaAdministrativaTxt\":\"Municipal\",\"situacaoFuncionamentoTxt\":\"Em atividade\"},{\"anoCenso\":2013,\"cod\":15033449,\"nome\":\"E M E F ESPERANCA\",\"codCidade\":1506401,\"cidade\":\"SANTA CRUZ DO ARARI\",\"estado\":\"PA\",\"regiao\":\"Norte\",\"situacaoFuncionamento\":1,\"dependenciaAdministrativa\":3,\"idebAI\":0.0,\"idebAF\":0.0,\"enemMediaGeral\":0.0,\"dependenciaAdministrativaTxt\":\"Municipal\",\"situacaoFuncionamentoTxt\":\"Em atividade\"},{\"anoCenso\":2013,\"cod\":15566161,\"nome\":\"E M E F ESPIRITO SANTO DO MARACU\",\"codCidade\":1502103,\"cidade\":\"CAMETA\",\"estado\":\"PA\",\"regiao\":\"Norte\",\"situacaoFuncionamento\":1,\"dependenciaAdministrativa\":3,\"idebAI\":0.0,\"idebAF\":0.0,\"enemMediaGeral\":0.0,\"dependenciaAdministrativaTxt\":\"Municipal\",\"situacaoFuncionamentoTxt\":\"Em atividade\"},{\"anoCenso\":2013,\"cod\":15153932,\"nome\":\"E M E F ESTRELA D ALVA\",\"codCidade\":1506195,\"cidade\":\"RUROPOLIS\",\"estado\":\"PA\",\"regiao\":\"Norte\",\"situacaoFuncionamento\":1,\"dependenciaAdministrativa\":3,\"idebAI\":0.0,\"idebAF\":0.0,\"enemMediaGeral\":0.0,\"dependenciaAdministrativaTxt\":\"Municipal\",\"situacaoFuncionamentoTxt\":\"Em atividade\"},{\"anoCenso\":2013,\"cod\":15094936,\"nome\":\"E M E F FE EM DEUS\",\"codCidade\":1507201,\"cidade\":\"SAO DOMINGOS DO CAPIM\",\"estado\":\"PA\",\"regiao\":\"Norte\",\"situacaoFuncionamento\":1,\"dependenciaAdministrativa\":3,\"idebAI\":0.0,\"idebAF\":0.0,\"enemMediaGeral\":0.0,\"dependenciaAdministrativaTxt\":\"Municipal\",\"situacaoFuncionamentoTxt\":\"Em atividade\"},{\"anoCenso\":2013,\"cod\":15110672,\"nome\":\"E M E F FLORESTA\",\"codCidade\":1508159,\"cidade\":\"URUARA\",\"estado\":\"PA\",\"regiao\":\"Norte\",\"situacaoFuncionamento\":1,\"dependenciaAdministrativa\":3,\"idebAI\":0.0,\"idebAF\":0.0,\"enemMediaGeral\":0.0,\"dependenciaAdministrativaTxt\":\"Municipal\",\"situacaoFuncionamentoTxt\":\"Em atividade\"},{\"anoCenso\":2013,\"cod\":15094952,\"nome\":\"E M E F FOZ DO JARI\",\"codCidade\":1507201,\"cidade\":\"SAO DOMINGOS DO CAPIM\",\"estado\":\"PA\",\"regiao\":\"Norte\",\"situacaoFuncionamento\":1,\"dependenciaAdministrativa\":3,\"idebAI\":0.0,\"idebAF\":0.0,\"enemMediaGeral\":0.0,\"dependenciaAdministrativaTxt\":\"Municipal\",\"situacaoFuncionamentoTxt\":\"Em atividade\"},{\"anoCenso\":2013,\"cod\":15158497,\"nome\":\"E M E F FUTURO DA CRIANCA\",\"codCidade\":1505486,\"cidade\":\"PACAJA\",\"estado\":\"PA\",\"regiao\":\"Norte\",\"situacaoFuncionamento\":1,\"dependenciaAdministrativa\":3,\"idebAI\":0.0,\"idebAF\":0.0,\"enemMediaGeral\":0.0,\"dependenciaAdministrativaTxt\":\"Municipal\",\"situacaoFuncionamentoTxt\":\"Em atividade\"},{\"anoCenso\":2013,\"cod\":15122042,\"nome\":\"E M E F GETULIO VARGAS\",\"codCidade\":1507300,\"cidade\":\"SAO FELIX DO XINGU\",\"estado\":\"PA\",\"regiao\":\"Norte\",\"situacaoFuncionamento\":1,\"dependenciaAdministrativa\":3,\"idebAI\":0.0,\"idebAF\":0.0,\"enemMediaGeral\":0.0,\"dependenciaAdministrativaTxt\":\"Municipal\",\"situacaoFuncionamentoTxt\":\"Em atividade\"},{\"anoCenso\":2013,\"cod\":15148521,\"nome\":\"E M E F GUIMARAES ROSA\",\"codCidade\":1505205,\"cidade\":\"OEIRAS DO PARA\",\"estado\":\"PA\",\"regiao\":\"Norte\",\"situacaoFuncionamento\":1,\"dependenciaAdministrativa\":3,\"idebAI\":0.0,\"idebAF\":0.0,\"enemMediaGeral\":0.0,\"dependenciaAdministrativaTxt\":\"Municipal\",\"situacaoFuncionamentoTxt\":\"Em atividade\"},{\"anoCenso\":2013,\"cod\":15097781,\"nome\":\"E M E F IGARAPE DO ANTA I\",\"codCidade\":1504802,\"cidade\":\"MONTE ALEGRE\",\"estado\":\"PA\",\"regiao\":\"Norte\",\"situacaoFuncionamento\":1,\"dependenciaAdministrativa\":3,\"idebAI\":0.0,\"idebAF\":0.0,\"enemMediaGeral\":0.0,\"dependenciaAdministrativaTxt\":\"Municipal\",\"situacaoFuncionamentoTxt\":\"Em atividade\"},{\"anoCenso\":2013,\"cod\":15531104,\"nome\":\"E M E F IVENS RODRIGUES FERREIRA DA COSTA\",\"codCidade\":1502103,\"cidade\":\"CAMETA\",\"estado\":\"PA\",\"regiao\":\"Norte\",\"situacaoFuncionamento\":1,\"dependenciaAdministrativa\":3,\"idebAI\":3.5999999046325684,\"idebAF\":0.0,\"enemMediaGeral\":0.0,\"dependenciaAdministrativaTxt\":\"Municipal\",\"situacaoFuncionamentoTxt\":\"Em atividade\"},{\"anoCenso\":2013,\"cod\":15578933,\"nome\":\"E M E F JESUS E POR NOS\",\"codCidade\":1507201,\"cidade\":\"SAO DOMINGOS DO CAPIM\",\"estado\":\"PA\",\"regiao\":\"Norte\",\"situacaoFuncionamento\":1,\"dependenciaAdministrativa\":3,\"idebAI\":0.0,\"idebAF\":0.0,\"enemMediaGeral\":0.0,\"dependenciaAdministrativaTxt\":\"Municipal\",\"situacaoFuncionamentoTxt\":\"Em atividade\"},{\"anoCenso\":2013,\"cod\":15094995,\"nome\":\"E M E F JOAO DA SILVA LOBO\",\"codCidade\":1507201,\"cidade\":\"SAO DOMINGOS DO CAPIM\",\"estado\":\"PA\",\"regiao\":\"Norte\",\"situacaoFuncionamento\":1,\"dependenciaAdministrativa\":3,\"idebAI\":2.299999952316284,\"idebAF\":0.0,\"enemMediaGeral\":0.0,\"dependenciaAdministrativaTxt\":\"Municipal\",\"situacaoFuncionamentoTxt\":\"Em atividade\"},{\"anoCenso\":2013,\"cod\":15089770,\"nome\":\"E M E F JOAQUIM JOSE DA SILVA XAVIER\",\"codCidade\":1503077,\"cidade\":\"GARRAFAO DO NORTE\",\"estado\":\"PA\",\"regiao\":\"Norte\",\"situacaoFuncionamento\":1,\"dependenciaAdministrativa\":3,\"idebAI\":0.0,\"idebAF\":0.0,\"enemMediaGeral\":0.0,\"dependenciaAdministrativaTxt\":\"Municipal\",\"situacaoFuncionamentoTxt\":\"Em atividade\"},{\"anoCenso\":2013,\"cod\":15560406,\"nome\":\"E M E F JOSE BELO\",\"codCidade\":1504901,\"cidade\":\"MUANA\",\"estado\":\"PA\",\"regiao\":\"Norte\",\"situacaoFuncionamento\":1,\"dependenciaAdministrativa\":3,\"idebAI\":0.0,\"idebAF\":0.0,\"enemMediaGeral\":0.0,\"dependenciaAdministrativaTxt\":\"Municipal\",\"situacaoFuncionamentoTxt\":\"Em atividade\"},{\"anoCenso\":2013,\"cod\":15158063,\"nome\":\"E M E F JOSE DE ALENCAR\",\"codCidade\":1504950,\"cidade\":\"NOVA ESPERANCA DO PIRIA\",\"estado\":\"PA\",\"regiao\":\"Norte\",\"situacaoFuncionamento\":1,\"dependenciaAdministrativa\":3,\"idebAI\":0.0,\"idebAF\":0.0,\"enemMediaGeral\":0.0,\"dependenciaAdministrativaTxt\":\"Municipal\",\"situacaoFuncionamentoTxt\":\"Em atividade\"},{\"anoCenso\":2013,\"cod\":15130100,\"nome\":\"E M E F JOSE NOGUEIRA DA SILVA\",\"codCidade\":1507151,\"cidade\":\"SAO DOMINGOS DO ARAGUAIA\",\"estado\":\"PA\",\"regiao\":\"Norte\",\"situacaoFuncionamento\":1,\"dependenciaAdministrativa\":3,\"idebAI\":0.0,\"idebAF\":0.0,\"enemMediaGeral\":0.0,\"dependenciaAdministrativaTxt\":\"Municipal\",\"situacaoFuncionamentoTxt\":\"Em atividade\"},{\"anoCenso\":2013,\"cod\":15008673,\"nome\":\"E M E F LINHA CENTRAL\",\"codCidade\":1504802,\"cidade\":\"MONTE ALEGRE\",\"estado\":\"PA\",\"regiao\":\"Norte\",\"situacaoFuncionamento\":1,\"dependenciaAdministrativa\":3,\"idebAI\":0.0,\"idebAF\":0.0,\"enemMediaGeral\":0.0,\"dependenciaAdministrativaTxt\":\"Municipal\",\"situacaoFuncionamentoTxt\":\"Em atividade\"},{\"anoCenso\":2013,\"cod\":15008681,\"nome\":\"E M E F LINHA CENTRAL II\",\"codCidade\":1504802,\"cidade\":\"MONTE ALEGRE\",\"estado\":\"PA\",\"regiao\":\"Norte\",\"situacaoFuncionamento\":1,\"dependenciaAdministrativa\":3,\"idebAI\":0.0,\"idebAF\":0.0,\"enemMediaGeral\":0.0,\"dependenciaAdministrativaTxt\":\"Municipal\",\"situacaoFuncionamentoTxt\":\"Em atividade\"},{\"anoCenso\":2013,\"cod\":15518930,\"nome\":\"E M E F LOURIVAL CAMARAO\",\"codCidade\":1507706,\"cidade\":\"SAO SEBASTIAO DA BOA VISTA\",\"estado\":\"PA\",\"regiao\":\"Norte\",\"situacaoFuncionamento\":1,\"dependenciaAdministrativa\":3,\"idebAI\":0.0,\"idebAF\":0.0,\"enemMediaGeral\":0.0,\"dependenciaAdministrativaTxt\":\"Municipal\",\"situacaoFuncionamentoTxt\":\"Em atividade\"},{\"anoCenso\":2013,\"cod\":15087980,\"nome\":\"E M E F LUZIA DO CIRIRI\",\"codCidade\":1500958,\"cidade\":\"AURORA DO PARA\",\"estado\":\"PA\",\"regiao\":\"Norte\",\"situacaoFuncionamento\":1,\"dependenciaAdministrativa\":3,\"idebAI\":0.0,\"idebAF\":0.0,\"enemMediaGeral\":0.0,\"dependenciaAdministrativaTxt\":\"Municipal\",\"situacaoFuncionamentoTxt\":\"Em atividade\"},{\"anoCenso\":2013,\"cod\":15079350,\"nome\":\"E M E F MANOEL GONCALVES II\",\"codCidade\":1500206,\"cidade\":\"ACARA\",\"estado\":\"PA\",\"regiao\":\"Norte\",\"situacaoFuncionamento\":1,\"dependenciaAdministrativa\":3,\"idebAI\":0.0,\"idebAF\":0.0,\"enemMediaGeral\":0.0,\"dependenciaAdministrativaTxt\":\"Municipal\",\"situacaoFuncionamentoTxt\":\"Em atividade\"},{\"anoCenso\":2013,\"cod\":15575586,\"nome\":\"E M E F MANUEL BANDEIRA\",\"codCidade\":1506195,\"cidade\":\"RUROPOLIS\",\"estado\":\"PA\",\"regiao\":\"Norte\",\"situacaoFuncionamento\":1,\"dependenciaAdministrativa\":3,\"idebAI\":0.0,\"idebAF\":0.0,\"enemMediaGeral\":0.0,\"dependenciaAdministrativaTxt\":\"Municipal\",\"situacaoFuncionamentoTxt\":\"Em atividade\"},{\"anoCenso\":2013,\"cod\":15575535,\"nome\":\"E M E F MARIA ALVES SANTANA\",\"codCidade\":1506195,\"cidade\":\"RUROPOLIS\",\"estado\":\"PA\",\"regiao\":\"Norte\",\"situacaoFuncionamento\":1,\"dependenciaAdministrativa\":3,\"idebAI\":0.0,\"idebAF\":0.0,\"enemMediaGeral\":0.0,\"dependenciaAdministrativaTxt\":\"Municipal\",\"situacaoFuncionamentoTxt\":\"Em atividade\"},{\"anoCenso\":2013,\"cod\":15078183,\"nome\":\"E M E F MARIA DE NAZARE II\",\"codCidade\":1500206,\"cidade\":\"ACARA\",\"estado\":\"PA\",\"regiao\":\"Norte\",\"situacaoFuncionamento\":1,\"dependenciaAdministrativa\":3,\"idebAI\":0.0,\"idebAF\":0.0,\"enemMediaGeral\":0.0,\"dependenciaAdministrativaTxt\":\"Municipal\",\"situacaoFuncionamentoTxt\":\"Em atividade\"},{\"anoCenso\":2013,\"cod\":15095037,\"nome\":\"E M E F MARIA GUALDINA\",\"codCidade\":1507201,\"cidade\":\"SAO DOMINGOS DO CAPIM\",\"estado\":\"PA\",\"regiao\":\"Norte\",\"situacaoFuncionamento\":1,\"dependenciaAdministrativa\":3,\"idebAI\":0.0,\"idebAF\":0.0,\"enemMediaGeral\":0.0,\"dependenciaAdministrativaTxt\":\"Municipal\",\"situacaoFuncionamentoTxt\":\"Em atividade\"},{\"anoCenso\":2013,\"cod\":15104290,\"nome\":\"E M E F MIGUEL GUILHERME DA SILVA\",\"codCidade\":1505106,\"cidade\":\"OBIDOS\",\"estado\":\"PA\",\"regiao\":\"Norte\",\"situacaoFuncionamento\":1,\"dependenciaAdministrativa\":3,\"idebAI\":0.0,\"idebAF\":0.0,\"enemMediaGeral\":0.0,\"dependenciaAdministrativaTxt\":\"Municipal\",\"situacaoFuncionamentoTxt\":\"Em atividade\"},{\"anoCenso\":2013,\"cod\":15009971,\"nome\":\"E M E F MISTA\",\"codCidade\":1506005,\"cidade\":\"PRAINHA\",\"estado\":\"PA\",\"regiao\":\"Norte\",\"situacaoFuncionamento\":1,\"dependenciaAdministrativa\":3,\"idebAI\":0.0,\"idebAF\":0.0,\"enemMediaGeral\":0.0,\"dependenciaAdministrativaTxt\":\"Municipal\",\"situacaoFuncionamentoTxt\":\"Em atividade\"},{\"anoCenso\":2013,\"cod\":15007960,\"nome\":\"E M E F MONTE DAS OLIVEIRAS\",\"codCidade\":1504802,\"cidade\":\"MONTE ALEGRE\",\"estado\":\"PA\",\"regiao\":\"Norte\",\"situacaoFuncionamento\":1,\"dependenciaAdministrativa\":3,\"idebAI\":0.0,\"idebAF\":0.0,\"enemMediaGeral\":0.0,\"dependenciaAdministrativaTxt\":\"Municipal\",\"situacaoFuncionamentoTxt\":\"Em atividade\"},{\"anoCenso\":2013,\"cod\":15138801,\"nome\":\"E M E F MONTE DAS OLIVEIRAS\",\"codCidade\":1506195,\"cidade\":\"RUROPOLIS\",\"estado\":\"PA\",\"regiao\":\"Norte\",\"situacaoFuncionamento\":1,\"dependenciaAdministrativa\":3,\"idebAI\":0.0,\"idebAF\":0.0,\"enemMediaGeral\":0.0,\"dependenciaAdministrativaTxt\":\"Municipal\",\"situacaoFuncionamentoTxt\":\"Em atividade\"},{\"anoCenso\":2013,\"cod\":15122174,\"nome\":\"E M E F MUNDIAL\",\"codCidade\":1507300,\"cidade\":\"SAO FELIX DO XINGU\",\"estado\":\"PA\",\"regiao\":\"Norte\",\"situacaoFuncionamento\":1,\"dependenciaAdministrativa\":3,\"idebAI\":0.0,\"idebAF\":0.0,\"enemMediaGeral\":0.0,\"dependenciaAdministrativaTxt\":\"Municipal\",\"situacaoFuncionamentoTxt\":\"Em atividade\"},{\"anoCenso\":2013,\"cod\":15083357,\"nome\":\"E M E F NAZARE DO JUTAITEUA\",\"codCidade\":1504703,\"cidade\":\"MOJU\",\"estado\":\"PA\",\"regiao\":\"Norte\",\"situacaoFuncionamento\":1,\"dependenciaAdministrativa\":3,\"idebAI\":0.0,\"idebAF\":0.0,\"enemMediaGeral\":0.0,\"dependenciaAdministrativaTxt\":\"Municipal\",\"situacaoFuncionamentoTxt\":\"Em atividade\"},{\"anoCenso\":2013,\"cod\":15156559,\"nome\":\"E M E F NELSON RIBEIRO - ANEXA\",\"codCidade\":1500701,\"cidade\":\"ANAJAS\",\"estado\":\"PA\",\"regiao\":\"Norte\",\"situacaoFuncionamento\":1,\"dependenciaAdministrativa\":3,\"idebAI\":0.0,\"idebAF\":0.0,\"enemMediaGeral\":0.0,\"dependenciaAdministrativaTxt\":\"Municipal\",\"situacaoFuncionamentoTxt\":\"Em atividade\"},{\"anoCenso\":2013,\"cod\":15004996,\"nome\":\"E M E F NOSSA SRA DA CONCEICAO\",\"codCidade\":1507979,\"cidade\":\"TERRA SANTA\",\"estado\":\"PA\",\"regiao\":\"Norte\",\"situacaoFuncionamento\":1,\"dependenciaAdministrativa\":3,\"idebAI\":0.0,\"idebAF\":0.0,\"enemMediaGeral\":0.0,\"dependenciaAdministrativaTxt\":\"Municipal\",\"situacaoFuncionamentoTxt\":\"Em atividade\"},{\"anoCenso\":2013,\"cod\":15008266,\"nome\":\"E M E F NOVA ALTAMIRA\",\"codCidade\":1504802,\"cidade\":\"MONTE ALEGRE\",\"estado\":\"PA\",\"regiao\":\"Norte\",\"situacaoFuncionamento\":1,\"dependenciaAdministrativa\":3,\"idebAI\":0.0,\"idebAF\":0.0,\"enemMediaGeral\":0.0,\"dependenciaAdministrativaTxt\":\"Municipal\",\"situacaoFuncionamentoTxt\":\"Em atividade\"},{\"anoCenso\":2013,\"cod\":15095150,\"nome\":\"E M E F NOVA ESPERANCA\",\"codCidade\":1507201,\"cidade\":\"SAO DOMINGOS DO CAPIM\",\"estado\":\"PA\",\"regiao\":\"Norte\",\"situacaoFuncionamento\":1,\"dependenciaAdministrativa\":3,\"idebAI\":0.0,\"idebAF\":0.0,\"enemMediaGeral\":0.0,\"dependenciaAdministrativaTxt\":\"Municipal\",\"situacaoFuncionamentoTxt\":\"Em atividade\"},{\"anoCenso\":2013,\"cod\":15518515,\"nome\":\"E M E F NOVO BRASIL PATRIMONIO\",\"codCidade\":1504802,\"cidade\":\"MONTE ALEGRE\",\"estado\":\"PA\",\"regiao\":\"Norte\",\"situacaoFuncionamento\":1,\"dependenciaAdministrativa\":3,\"idebAI\":0.0,\"idebAF\":0.0,\"enemMediaGeral\":0.0,\"dependenciaAdministrativaTxt\":\"Municipal\",\"situacaoFuncionamentoTxt\":\"Em atividade\"},{\"anoCenso\":2013,\"cod\":15000079,\"nome\":\"E M E F NSRA APARECIDA\",\"codCidade\":1503002,\"cidade\":\"FARO\",\"estado\":\"PA\",\"regiao\":\"Norte\",\"situacaoFuncionamento\":1,\"dependenciaAdministrativa\":3,\"idebAI\":0.0,\"idebAF\":0.0,\"enemMediaGeral\":0.0,\"dependenciaAdministrativaTxt\":\"Municipal\",\"situacaoFuncionamentoTxt\":\"Em atividade\"},{\"anoCenso\":2013,\"cod\":15524400,\"nome\":\"E M E F NSRA DA BATALHA\",\"codCidade\":1503457,\"cidade\":\"IPIXUNA DO PARA\",\"estado\":\"PA\",\"regiao\":\"Norte\",\"situacaoFuncionamento\":1,\"dependenciaAdministrativa\":3,\"idebAI\":0.0,\"idebAF\":0.0,\"enemMediaGeral\":0.0,\"dependenciaAdministrativaTxt\":\"Municipal\",\"situacaoFuncionamentoTxt\":\"Em atividade\"},{\"anoCenso\":2013,\"cod\":15547256,\"nome\":\"E M E F NSRA DA CONCEICAO I\",\"codCidade\":1507201,\"cidade\":\"SAO DOMINGOS DO CAPIM\",\"estado\":\"PA\",\"regiao\":\"Norte\",\"situacaoFuncionamento\":1,\"dependenciaAdministrativa\":3,\"idebAI\":0.0,\"idebAF\":0.0,\"enemMediaGeral\":0.0,\"dependenciaAdministrativaTxt\":\"Municipal\",\"situacaoFuncionamentoTxt\":\"Em atividade\"},{\"anoCenso\":2013,\"cod\":15095193,\"nome\":\"E M E F NSRA DA CONCEICAO II\",\"codCidade\":1507201,\"cidade\":\"SAO DOMINGOS DO CAPIM\",\"estado\":\"PA\",\"regiao\":\"Norte\",\"situacaoFuncionamento\":1,\"dependenciaAdministrativa\":3,\"idebAI\":0.0,\"idebAF\":0.0,\"enemMediaGeral\":0.0,\"dependenciaAdministrativaTxt\":\"Municipal\",\"situacaoFuncionamentoTxt\":\"Em atividade\"},{\"anoCenso\":2013,\"cod\":15108341,\"nome\":\"E M E F NSRA DO AMPARO\",\"codCidade\":1500859,\"cidade\":\"ANAPU\",\"estado\":\"PA\",\"regiao\":\"Norte\",\"situacaoFuncionamento\":1,\"dependenciaAdministrativa\":3,\"idebAI\":0.0,\"idebAF\":0.0,\"enemMediaGeral\":0.0,\"dependenciaAdministrativaTxt\":\"Municipal\",\"situacaoFuncionamentoTxt\":\"Em atividade\"},{\"anoCenso\":2013,\"cod\":15110770,\"nome\":\"E M E F NSRA DO BOM CONSELHO\",\"codCidade\":1508159,\"cidade\":\"URUARA\",\"estado\":\"PA\",\"regiao\":\"Norte\",\"situacaoFuncionamento\":1,\"dependenciaAdministrativa\":3,\"idebAI\":0.0,\"idebAF\":0.0,\"enemMediaGeral\":0.0,\"dependenciaAdministrativaTxt\":\"Municipal\",\"situacaoFuncionamentoTxt\":\"Em atividade\"},{\"anoCenso\":2013,\"cod\":15004899,\"nome\":\"E M E F NSRA DO PERPETUO SOCORRO\",\"codCidade\":1507979,\"cidade\":\"TERRA SANTA\",\"estado\":\"PA\",\"regiao\":\"Norte\",\"situacaoFuncionamento\":1,\"dependenciaAdministrativa\":3,\"idebAI\":0.0,\"idebAF\":0.0,\"enemMediaGeral\":0.0,\"dependenciaAdministrativaTxt\":\"Municipal\",\"situacaoFuncionamentoTxt\":\"Em atividade\"},{\"anoCenso\":2013,\"cod\":15095118,\"nome\":\"E M E F NSRA DO PERPETUO SOCORRO I\",\"codCidade\":1507201,\"cidade\":\"SAO DOMINGOS DO CAPIM\",\"estado\":\"PA\",\"regiao\":\"Norte\",\"situacaoFuncionamento\":1,\"dependenciaAdministrativa\":3,\"idebAI\":0.0,\"idebAF\":0.0,\"enemMediaGeral\":0.0,\"dependenciaAdministrativaTxt\":\"Municipal\",\"situacaoFuncionamentoTxt\":\"Em atividade\"},{\"anoCenso\":2013,\"cod\":15095185,\"nome\":\"E M E F NSRA DO PERPETUO SOCORRO III\",\"codCidade\":1507201,\"cidade\":\"SAO DOMINGOS DO CAPIM\",\"estado\":\"PA\",\"regiao\":\"Norte\",\"situacaoFuncionamento\":1,\"dependenciaAdministrativa\":3,\"idebAI\":0.0,\"idebAF\":0.0,\"enemMediaGeral\":0.0,\"dependenciaAdministrativaTxt\":\"Municipal\",\"situacaoFuncionamentoTxt\":\"Em atividade\"},{\"anoCenso\":2013,\"cod\":15110010,\"nome\":\"E M E F NSRA DO ROSARIO\",\"codCidade\":1508159,\"cidade\":\"URUARA\",\"estado\":\"PA\",\"regiao\":\"Norte\",\"situacaoFuncionamento\":1,\"dependenciaAdministrativa\":3,\"idebAI\":0.0,\"idebAF\":0.0,\"enemMediaGeral\":0.0,\"dependenciaAdministrativaTxt\":\"Municipal\",\"situacaoFuncionamentoTxt\":\"Em atividade\"},{\"anoCenso\":2013,\"cod\":15109593,\"nome\":\"E M E F OSVALDO CRUZ\",\"codCidade\":1508159,\"cidade\":\"URUARA\",\"estado\":\"PA\",\"regiao\":\"Norte\",\"situacaoFuncionamento\":1,\"dependenciaAdministrativa\":3,\"idebAI\":0.0,\"idebAF\":0.0,\"enemMediaGeral\":0.0,\"dependenciaAdministrativaTxt\":\"Municipal\",\"situacaoFuncionamentoTxt\":\"Em atividade\"},{\"anoCenso\":2013,\"cod\":15095215,\"nome\":\"E M E F PARAISO\",\"codCidade\":1507201,\"cidade\":\"SAO DOMINGOS DO CAPIM\",\"estado\":\"PA\",\"regiao\":\"Norte\",\"situacaoFuncionamento\":1,\"dependenciaAdministrativa\":3,\"idebAI\":0.0,\"idebAF\":0.0,\"enemMediaGeral\":0.0,\"dependenciaAdministrativaTxt\":\"Municipal\",\"situacaoFuncionamentoTxt\":\"Em atividade\"},{\"anoCenso\":2013,\"cod\":15564150,\"nome\":\"E M E F PARAISO NOVO\",\"codCidade\":1506195,\"cidade\":\"RUROPOLIS\",\"estado\":\"PA\",\"regiao\":\"Norte\",\"situacaoFuncionamento\":1,\"dependenciaAdministrativa\":3,\"idebAI\":0.0,\"idebAF\":0.0,\"enemMediaGeral\":0.0,\"dependenciaAdministrativaTxt\":\"Municipal\",\"situacaoFuncionamentoTxt\":\"Em atividade\"},{\"anoCenso\":2013,\"cod\":15545547,\"nome\":\"E M E F PARICATUBA\",\"codCidade\":1504802,\"cidade\":\"MONTE ALEGRE\",\"estado\":\"PA\",\"regiao\":\"Norte\",\"situacaoFuncionamento\":1,\"dependenciaAdministrativa\":3,\"idebAI\":0.0,\"idebAF\":0.0,\"enemMediaGeral\":0.0,\"dependenciaAdministrativaTxt\":\"Municipal\",\"situacaoFuncionamentoTxt\":\"Em atividade\"},{\"anoCenso\":2013,\"cod\":15585484,\"nome\":\"E M E F PASSOS PARA O SABER\",\"codCidade\":1505064,\"cidade\":\"NOVO REPARTIMENTO\",\"estado\":\"PA\",\"regiao\":\"Norte\",\"situacaoFuncionamento\":1,\"dependenciaAdministrativa\":3,\"idebAI\":0.0,\"idebAF\":0.0,\"enemMediaGeral\":0.0,\"dependenciaAdministrativaTxt\":\"Municipal\",\"situacaoFuncionamentoTxt\":\"Em atividade\"},{\"anoCenso\":2013,\"cod\":15002608,\"nome\":\"E M E F PAUXIS\",\"codCidade\":1505106,\"cidade\":\"OBIDOS\",\"estado\":\"PA\",\"regiao\":\"Norte\",\"situacaoFuncionamento\":1,\"dependenciaAdministrativa\":3,\"idebAI\":0.0,\"idebAF\":0.0,\"enemMediaGeral\":0.0,\"dependenciaAdministrativaTxt\":\"Municipal\",\"situacaoFuncionamentoTxt\":\"Em atividade\"},{\"anoCenso\":2013,\"cod\":15099270,\"nome\":\"E M E F PERITORO GRANDE - PITOROZINHO\",\"codCidade\":1508308,\"cidade\":\"VISEU\",\"estado\":\"PA\",\"regiao\":\"Norte\",\"situacaoFuncionamento\":1,\"dependenciaAdministrativa\":3,\"idebAI\":0.0,\"idebAF\":0.0,\"enemMediaGeral\":0.0,\"dependenciaAdministrativaTxt\":\"Municipal\",\"situacaoFuncionamentoTxt\":\"Em atividade\"},{\"anoCenso\":2013,\"cod\":15522610,\"nome\":\"E M E F PORTO AZUL\",\"codCidade\":1504703,\"cidade\":\"MOJU\",\"estado\":\"PA\",\"regiao\":\"Norte\",\"situacaoFuncionamento\":1,\"dependenciaAdministrativa\":3,\"idebAI\":0.0,\"idebAF\":0.0,\"enemMediaGeral\":0.0,\"dependenciaAdministrativaTxt\":\"Municipal\",\"situacaoFuncionamentoTxt\":\"Em atividade\"},{\"anoCenso\":2013,\"cod\":15103692,\"nome\":\"E M E F PRINCESA ISABEL\",\"codCidade\":1506195,\"cidade\":\"RUROPOLIS\",\"estado\":\"PA\",\"regiao\":\"Norte\",\"situacaoFuncionamento\":1,\"dependenciaAdministrativa\":3,\"idebAI\":0.0,\"idebAF\":0.0,\"enemMediaGeral\":0.0,\"dependenciaAdministrativaTxt\":\"Municipal\",\"situacaoFuncionamentoTxt\":\"Em atividade\"},{\"anoCenso\":2013,\"cod\":15227499,\"nome\":\"E M E F PROF JONATHAS PONTES ATHIAS\",\"codCidade\":1505106,\"cidade\":\"OBIDOS\",\"estado\":\"PA\",\"regiao\":\"Norte\",\"situacaoFuncionamento\":1,\"dependenciaAdministrativa\":3,\"idebAI\":0.0,\"idebAF\":0.0,\"enemMediaGeral\":0.0,\"dependenciaAdministrativaTxt\":\"Municipal\",\"situacaoFuncionamentoTxt\":\"Em atividade\"},{\"anoCenso\":2013,\"cod\":15556956,\"nome\":\"E M E F PROFESSORA ALDALETE FERREIRA\",\"codCidade\":1500305,\"cidade\":\"AFUA\",\"estado\":\"PA\",\"regiao\":\"Norte\",\"situacaoFuncionamento\":1,\"dependenciaAdministrativa\":3,\"idebAI\":0.0,\"idebAF\":0.0,\"enemMediaGeral\":0.0,\"dependenciaAdministrativaTxt\":\"Municipal\",\"situacaoFuncionamentoTxt\":\"Em atividade\"},{\"anoCenso\":2013,\"cod\":15536521,\"nome\":\"E M E F RAIMUNDO DE SOUZA SANTOS\",\"codCidade\":1504703,\"cidade\":\"MOJU\",\"estado\":\"PA\",\"regiao\":\"Norte\",\"situacaoFuncionamento\":1,\"dependenciaAdministrativa\":3,\"idebAI\":0.0,\"idebAF\":0.0,\"enemMediaGeral\":0.0,\"dependenciaAdministrativaTxt\":\"Municipal\",\"situacaoFuncionamentoTxt\":\"Em atividade\"},{\"anoCenso\":2013,\"cod\":15023664,\"nome\":\"E M E F RAIMUNDO NOGUEIRA\",\"codCidade\":1500305,\"cidade\":\"AFUA\",\"estado\":\"PA\",\"regiao\":\"Norte\",\"situacaoFuncionamento\":1,\"dependenciaAdministrativa\":3,\"idebAI\":0.0,\"idebAF\":0.0,\"enemMediaGeral\":0.0,\"dependenciaAdministrativaTxt\":\"Municipal\",\"situacaoFuncionamentoTxt\":\"Em atividade\"}]]'"
      ]
     },
     "execution_count": 12,
     "metadata": {},
     "output_type": "execute_result"
    }
   ],
   "source": [
    "resposta = requests.get(link)\n",
    "resposta.text"
   ]
  },
  {
   "cell_type": "code",
   "execution_count": 20,
   "metadata": {},
   "outputs": [],
   "source": [
    "df = pd.DataFrame(resposta.json()[1])"
   ]
  },
  {
   "cell_type": "code",
   "execution_count": 21,
   "metadata": {},
   "outputs": [
    {
     "data": {
      "text/html": [
       "<div>\n",
       "<style scoped>\n",
       "    .dataframe tbody tr th:only-of-type {\n",
       "        vertical-align: middle;\n",
       "    }\n",
       "\n",
       "    .dataframe tbody tr th {\n",
       "        vertical-align: top;\n",
       "    }\n",
       "\n",
       "    .dataframe thead th {\n",
       "        text-align: right;\n",
       "    }\n",
       "</style>\n",
       "<table border=\"1\" class=\"dataframe\">\n",
       "  <thead>\n",
       "    <tr style=\"text-align: right;\">\n",
       "      <th></th>\n",
       "      <th>anoCenso</th>\n",
       "      <th>cidade</th>\n",
       "      <th>cod</th>\n",
       "      <th>codCidade</th>\n",
       "      <th>dependenciaAdministrativa</th>\n",
       "      <th>dependenciaAdministrativaTxt</th>\n",
       "      <th>enemMediaGeral</th>\n",
       "      <th>estado</th>\n",
       "      <th>idebAF</th>\n",
       "      <th>idebAI</th>\n",
       "      <th>nome</th>\n",
       "      <th>regiao</th>\n",
       "      <th>situacaoFuncionamento</th>\n",
       "      <th>situacaoFuncionamentoTxt</th>\n",
       "    </tr>\n",
       "  </thead>\n",
       "  <tbody>\n",
       "    <tr>\n",
       "      <th>0</th>\n",
       "      <td>2013</td>\n",
       "      <td>CANDIDO DE ABREU</td>\n",
       "      <td>41036026</td>\n",
       "      <td>4104402</td>\n",
       "      <td>3</td>\n",
       "      <td>Municipal</td>\n",
       "      <td>0.0</td>\n",
       "      <td>PR</td>\n",
       "      <td>0.0</td>\n",
       "      <td>0.0</td>\n",
       "      <td>BAIRRO DOS MENDES E R M EF</td>\n",
       "      <td>Sul</td>\n",
       "      <td>1</td>\n",
       "      <td>Em atividade</td>\n",
       "    </tr>\n",
       "    <tr>\n",
       "      <th>1</th>\n",
       "      <td>2013</td>\n",
       "      <td>MONTE ALEGRE</td>\n",
       "      <td>15008258</td>\n",
       "      <td>1504802</td>\n",
       "      <td>3</td>\n",
       "      <td>Municipal</td>\n",
       "      <td>0.0</td>\n",
       "      <td>PA</td>\n",
       "      <td>0.0</td>\n",
       "      <td>0.0</td>\n",
       "      <td>E M E F AGUA AZUL</td>\n",
       "      <td>Norte</td>\n",
       "      <td>1</td>\n",
       "      <td>Em atividade</td>\n",
       "    </tr>\n",
       "    <tr>\n",
       "      <th>2</th>\n",
       "      <td>2013</td>\n",
       "      <td>PLACAS</td>\n",
       "      <td>15534340</td>\n",
       "      <td>1505650</td>\n",
       "      <td>3</td>\n",
       "      <td>Municipal</td>\n",
       "      <td>0.0</td>\n",
       "      <td>PA</td>\n",
       "      <td>0.0</td>\n",
       "      <td>0.0</td>\n",
       "      <td>E M E F AGUA BOA</td>\n",
       "      <td>Norte</td>\n",
       "      <td>1</td>\n",
       "      <td>Em atividade</td>\n",
       "    </tr>\n",
       "    <tr>\n",
       "      <th>3</th>\n",
       "      <td>2013</td>\n",
       "      <td>NOVO REPARTIMENTO</td>\n",
       "      <td>15525821</td>\n",
       "      <td>1505064</td>\n",
       "      <td>3</td>\n",
       "      <td>Municipal</td>\n",
       "      <td>0.0</td>\n",
       "      <td>PA</td>\n",
       "      <td>0.0</td>\n",
       "      <td>0.0</td>\n",
       "      <td>E M E F AMAZONIA</td>\n",
       "      <td>Norte</td>\n",
       "      <td>1</td>\n",
       "      <td>Em atividade</td>\n",
       "    </tr>\n",
       "    <tr>\n",
       "      <th>4</th>\n",
       "      <td>2013</td>\n",
       "      <td>AFUA</td>\n",
       "      <td>15022790</td>\n",
       "      <td>1500305</td>\n",
       "      <td>3</td>\n",
       "      <td>Municipal</td>\n",
       "      <td>0.0</td>\n",
       "      <td>PA</td>\n",
       "      <td>0.0</td>\n",
       "      <td>0.0</td>\n",
       "      <td>E M E F AMELIA HOLANDA</td>\n",
       "      <td>Norte</td>\n",
       "      <td>1</td>\n",
       "      <td>Em atividade</td>\n",
       "    </tr>\n",
       "  </tbody>\n",
       "</table>\n",
       "</div>"
      ],
      "text/plain": [
       "   anoCenso             cidade       cod  codCidade  \\\n",
       "0      2013   CANDIDO DE ABREU  41036026    4104402   \n",
       "1      2013       MONTE ALEGRE  15008258    1504802   \n",
       "2      2013             PLACAS  15534340    1505650   \n",
       "3      2013  NOVO REPARTIMENTO  15525821    1505064   \n",
       "4      2013               AFUA  15022790    1500305   \n",
       "\n",
       "   dependenciaAdministrativa dependenciaAdministrativaTxt  enemMediaGeral  \\\n",
       "0                          3                    Municipal             0.0   \n",
       "1                          3                    Municipal             0.0   \n",
       "2                          3                    Municipal             0.0   \n",
       "3                          3                    Municipal             0.0   \n",
       "4                          3                    Municipal             0.0   \n",
       "\n",
       "  estado  idebAF  idebAI                        nome regiao  \\\n",
       "0     PR     0.0     0.0  BAIRRO DOS MENDES E R M EF    Sul   \n",
       "1     PA     0.0     0.0           E M E F AGUA AZUL  Norte   \n",
       "2     PA     0.0     0.0            E M E F AGUA BOA  Norte   \n",
       "3     PA     0.0     0.0            E M E F AMAZONIA  Norte   \n",
       "4     PA     0.0     0.0      E M E F AMELIA HOLANDA  Norte   \n",
       "\n",
       "   situacaoFuncionamento situacaoFuncionamentoTxt  \n",
       "0                      1             Em atividade  \n",
       "1                      1             Em atividade  \n",
       "2                      1             Em atividade  \n",
       "3                      1             Em atividade  \n",
       "4                      1             Em atividade  "
      ]
     },
     "execution_count": 21,
     "metadata": {},
     "output_type": "execute_result"
    }
   ],
   "source": [
    "df.head()"
   ]
  },
  {
   "cell_type": "code",
   "execution_count": 24,
   "metadata": {},
   "outputs": [
    {
     "data": {
      "text/html": [
       "<div>\n",
       "<style scoped>\n",
       "    .dataframe tbody tr th:only-of-type {\n",
       "        vertical-align: middle;\n",
       "    }\n",
       "\n",
       "    .dataframe tbody tr th {\n",
       "        vertical-align: top;\n",
       "    }\n",
       "\n",
       "    .dataframe thead th {\n",
       "        text-align: right;\n",
       "    }\n",
       "</style>\n",
       "<table border=\"1\" class=\"dataframe\">\n",
       "  <thead>\n",
       "    <tr style=\"text-align: right;\">\n",
       "      <th></th>\n",
       "      <th>anoCenso</th>\n",
       "      <th>cidade</th>\n",
       "      <th>cod</th>\n",
       "      <th>codCidade</th>\n",
       "      <th>dependenciaAdministrativa</th>\n",
       "      <th>dependenciaAdministrativaTxt</th>\n",
       "      <th>enemMediaGeral</th>\n",
       "      <th>estado</th>\n",
       "      <th>idebAF</th>\n",
       "      <th>idebAI</th>\n",
       "      <th>nome</th>\n",
       "      <th>regiao</th>\n",
       "      <th>situacaoFuncionamento</th>\n",
       "      <th>situacaoFuncionamentoTxt</th>\n",
       "    </tr>\n",
       "  </thead>\n",
       "  <tbody>\n",
       "    <tr>\n",
       "      <th>95</th>\n",
       "      <td>2013</td>\n",
       "      <td>RUROPOLIS</td>\n",
       "      <td>15103692</td>\n",
       "      <td>1506195</td>\n",
       "      <td>3</td>\n",
       "      <td>Municipal</td>\n",
       "      <td>0.0</td>\n",
       "      <td>PA</td>\n",
       "      <td>0.0</td>\n",
       "      <td>0.0</td>\n",
       "      <td>E M E F PRINCESA ISABEL</td>\n",
       "      <td>Norte</td>\n",
       "      <td>1</td>\n",
       "      <td>Em atividade</td>\n",
       "    </tr>\n",
       "    <tr>\n",
       "      <th>96</th>\n",
       "      <td>2013</td>\n",
       "      <td>OBIDOS</td>\n",
       "      <td>15227499</td>\n",
       "      <td>1505106</td>\n",
       "      <td>3</td>\n",
       "      <td>Municipal</td>\n",
       "      <td>0.0</td>\n",
       "      <td>PA</td>\n",
       "      <td>0.0</td>\n",
       "      <td>0.0</td>\n",
       "      <td>E M E F PROF JONATHAS PONTES ATHIAS</td>\n",
       "      <td>Norte</td>\n",
       "      <td>1</td>\n",
       "      <td>Em atividade</td>\n",
       "    </tr>\n",
       "    <tr>\n",
       "      <th>97</th>\n",
       "      <td>2013</td>\n",
       "      <td>AFUA</td>\n",
       "      <td>15556956</td>\n",
       "      <td>1500305</td>\n",
       "      <td>3</td>\n",
       "      <td>Municipal</td>\n",
       "      <td>0.0</td>\n",
       "      <td>PA</td>\n",
       "      <td>0.0</td>\n",
       "      <td>0.0</td>\n",
       "      <td>E M E F PROFESSORA ALDALETE FERREIRA</td>\n",
       "      <td>Norte</td>\n",
       "      <td>1</td>\n",
       "      <td>Em atividade</td>\n",
       "    </tr>\n",
       "    <tr>\n",
       "      <th>98</th>\n",
       "      <td>2013</td>\n",
       "      <td>MOJU</td>\n",
       "      <td>15536521</td>\n",
       "      <td>1504703</td>\n",
       "      <td>3</td>\n",
       "      <td>Municipal</td>\n",
       "      <td>0.0</td>\n",
       "      <td>PA</td>\n",
       "      <td>0.0</td>\n",
       "      <td>0.0</td>\n",
       "      <td>E M E F RAIMUNDO DE SOUZA SANTOS</td>\n",
       "      <td>Norte</td>\n",
       "      <td>1</td>\n",
       "      <td>Em atividade</td>\n",
       "    </tr>\n",
       "    <tr>\n",
       "      <th>99</th>\n",
       "      <td>2013</td>\n",
       "      <td>AFUA</td>\n",
       "      <td>15023664</td>\n",
       "      <td>1500305</td>\n",
       "      <td>3</td>\n",
       "      <td>Municipal</td>\n",
       "      <td>0.0</td>\n",
       "      <td>PA</td>\n",
       "      <td>0.0</td>\n",
       "      <td>0.0</td>\n",
       "      <td>E M E F RAIMUNDO NOGUEIRA</td>\n",
       "      <td>Norte</td>\n",
       "      <td>1</td>\n",
       "      <td>Em atividade</td>\n",
       "    </tr>\n",
       "  </tbody>\n",
       "</table>\n",
       "</div>"
      ],
      "text/plain": [
       "    anoCenso     cidade       cod  codCidade  dependenciaAdministrativa  \\\n",
       "95      2013  RUROPOLIS  15103692    1506195                          3   \n",
       "96      2013     OBIDOS  15227499    1505106                          3   \n",
       "97      2013       AFUA  15556956    1500305                          3   \n",
       "98      2013       MOJU  15536521    1504703                          3   \n",
       "99      2013       AFUA  15023664    1500305                          3   \n",
       "\n",
       "   dependenciaAdministrativaTxt  enemMediaGeral estado  idebAF  idebAI  \\\n",
       "95                    Municipal             0.0     PA     0.0     0.0   \n",
       "96                    Municipal             0.0     PA     0.0     0.0   \n",
       "97                    Municipal             0.0     PA     0.0     0.0   \n",
       "98                    Municipal             0.0     PA     0.0     0.0   \n",
       "99                    Municipal             0.0     PA     0.0     0.0   \n",
       "\n",
       "                                    nome regiao  situacaoFuncionamento  \\\n",
       "95               E M E F PRINCESA ISABEL  Norte                      1   \n",
       "96   E M E F PROF JONATHAS PONTES ATHIAS  Norte                      1   \n",
       "97  E M E F PROFESSORA ALDALETE FERREIRA  Norte                      1   \n",
       "98      E M E F RAIMUNDO DE SOUZA SANTOS  Norte                      1   \n",
       "99             E M E F RAIMUNDO NOGUEIRA  Norte                      1   \n",
       "\n",
       "   situacaoFuncionamentoTxt  \n",
       "95             Em atividade  \n",
       "96             Em atividade  \n",
       "97             Em atividade  \n",
       "98             Em atividade  \n",
       "99             Em atividade  "
      ]
     },
     "execution_count": 24,
     "metadata": {},
     "output_type": "execute_result"
    }
   ],
   "source": [
    "df.tail()"
   ]
  },
  {
   "cell_type": "code",
   "execution_count": 28,
   "metadata": {},
   "outputs": [
    {
     "data": {
      "text/plain": [
       "(100, 14)"
      ]
     },
     "execution_count": 28,
     "metadata": {},
     "output_type": "execute_result"
    }
   ],
   "source": [
    "df.shape"
   ]
  },
  {
   "cell_type": "code",
   "execution_count": 30,
   "metadata": {},
   "outputs": [
    {
     "data": {
      "text/plain": [
       "anoCenso                          int64\n",
       "cidade                           object\n",
       "cod                               int64\n",
       "codCidade                         int64\n",
       "dependenciaAdministrativa         int64\n",
       "dependenciaAdministrativaTxt     object\n",
       "enemMediaGeral                  float64\n",
       "estado                           object\n",
       "idebAF                          float64\n",
       "idebAI                          float64\n",
       "nome                             object\n",
       "regiao                           object\n",
       "situacaoFuncionamento             int64\n",
       "situacaoFuncionamentoTxt         object\n",
       "dtype: object"
      ]
     },
     "execution_count": 30,
     "metadata": {},
     "output_type": "execute_result"
    }
   ],
   "source": [
    "df.dtypes"
   ]
  },
  {
   "cell_type": "code",
   "execution_count": 32,
   "metadata": {},
   "outputs": [
    {
     "data": {
      "text/plain": [
       "PA    99\n",
       "PR     1\n",
       "Name: estado, dtype: int64"
      ]
     },
     "execution_count": 32,
     "metadata": {},
     "output_type": "execute_result"
    }
   ],
   "source": [
    "df['estado'].value_counts()"
   ]
  },
  {
   "cell_type": "code",
   "execution_count": 34,
   "metadata": {},
   "outputs": [
    {
     "data": {
      "text/plain": [
       "Municipal    100\n",
       "Name: dependenciaAdministrativaTxt, dtype: int64"
      ]
     },
     "execution_count": 34,
     "metadata": {},
     "output_type": "execute_result"
    }
   ],
   "source": [
    "df['dependenciaAdministrativaTxt'].value_counts()"
   ]
  }
 ],
 "metadata": {
  "kernelspec": {
   "display_name": "Python 3",
   "language": "python",
   "name": "python3"
  },
  "language_info": {
   "codemirror_mode": {
    "name": "ipython",
    "version": 3
   },
   "file_extension": ".py",
   "mimetype": "text/x-python",
   "name": "python",
   "nbconvert_exporter": "python",
   "pygments_lexer": "ipython3",
   "version": "3.7.0"
  }
 },
 "nbformat": 4,
 "nbformat_minor": 2
}
