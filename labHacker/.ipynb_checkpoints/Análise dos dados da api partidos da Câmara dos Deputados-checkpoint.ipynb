{
 "cells": [
  {
   "cell_type": "markdown",
   "metadata": {},
   "source": [
    "\n",
    "<h1>Análise de Dados da api da Câmara Legislativa</h1>\n",
    "<h4>link -> https://dadosabertos.camara.leg.br/api/v2/partidos?itens=100&ordem=ASC&ordenarPor=sigla</h4"
   ]
  },
  {
   "cell_type": "code",
   "execution_count": 19,
   "metadata": {},
   "outputs": [],
   "source": [
    "#importando a biblioteca\n",
    "import pandas as pd\n",
    "import requests\n",
    "#informar ao matplotlib sobre o grafico inline\n",
    "%matplotlib inline"
   ]
  },
  {
   "cell_type": "code",
   "execution_count": 20,
   "metadata": {
    "scrolled": true
   },
   "outputs": [],
   "source": [
    "#obter os dados da api \n",
    "#variavel para url\n",
    "\n",
    "url = 'https://dadosabertos.camara.leg.br/api/v2/partidos?itens=100&ordem=ASC&ordenarPor=sigla'"
   ]
  },
  {
   "cell_type": "code",
   "execution_count": 21,
   "metadata": {},
   "outputs": [
    {
     "data": {
      "text/plain": [
       "'{\"dados\":[{\"id\":36898,\"sigla\":\"AVANTE\",\"nome\":\"Avante\",\"uri\":\"https://dadosabertos.camara.leg.br/api/v2/partidos/36898\"},{\"id\":37902,\"sigla\":\"DC\",\"nome\":\"Democracia Cristã\",\"uri\":\"https://dadosabertos.camara.leg.br/api/v2/partidos/37902\"},{\"id\":36769,\"sigla\":\"DEM\",\"nome\":\"Democratas\",\"uri\":\"https://dadosabertos.camara.leg.br/api/v2/partidos/36769\"},{\"id\":36899,\"sigla\":\"MDB\",\"nome\":\"Movimento Democrático Brasileiro\",\"uri\":\"https://dadosabertos.camara.leg.br/api/v2/partidos/36899\"},{\"id\":37901,\"sigla\":\"NOVO\",\"nome\":\"Partido Novo\",\"uri\":\"https://dadosabertos.camara.leg.br/api/v2/partidos/37901\"},{\"id\":37900,\"sigla\":\"PATRI\",\"nome\":\"Patriota\",\"uri\":\"https://dadosabertos.camara.leg.br/api/v2/partidos/37900\"},{\"id\":36779,\"sigla\":\"PCdoB\",\"nome\":\"Partido Comunista do Brasil\",\"uri\":\"https://dadosabertos.camara.leg.br/api/v2/partidos/36779\"},{\"id\":36786,\"sigla\":\"PDT\",\"nome\":\"Partido Democrático Trabalhista\",\"uri\":\"https://dadosabertos.camara.leg.br/api/v2/partidos/36786\"},{\"id\":36761,\"sigla\":\"PEN\",\"nome\":\"Partido Ecológico Nacional\",\"uri\":\"https://dadosabertos.camara.leg.br/api/v2/partidos/36761\"},{\"id\":36793,\"sigla\":\"PHS\",\"nome\":\"Partido Humanista da Solidariedade\",\"uri\":\"https://dadosabertos.camara.leg.br/api/v2/partidos/36793\"},{\"id\":36887,\"sigla\":\"PMB\",\"nome\":\"Partido da Mulher Brasileira\",\"uri\":\"https://dadosabertos.camara.leg.br/api/v2/partidos/36887\"},{\"id\":36800,\"sigla\":\"PMDB\",\"nome\":\"Partido do Movimento Democrático Brasileiro\",\"uri\":\"https://dadosabertos.camara.leg.br/api/v2/partidos/36800\"},{\"id\":36801,\"sigla\":\"PMN\",\"nome\":\"Partido da Mobilização Nacional\",\"uri\":\"https://dadosabertos.camara.leg.br/api/v2/partidos/36801\"},{\"id\":36896,\"sigla\":\"PODE\",\"nome\":\"Podemos\",\"uri\":\"https://dadosabertos.camara.leg.br/api/v2/partidos/36896\"},{\"id\":37903,\"sigla\":\"PP\",\"nome\":\"Progressistas\",\"uri\":\"https://dadosabertos.camara.leg.br/api/v2/partidos/37903\"},{\"id\":36809,\"sigla\":\"PP**\",\"nome\":\"Partido Progressista\",\"uri\":\"https://dadosabertos.camara.leg.br/api/v2/partidos/36809\"},{\"id\":36762,\"sigla\":\"PPL\",\"nome\":\"Partido Pátria Livre\",\"uri\":\"https://dadosabertos.camara.leg.br/api/v2/partidos/36762\"},{\"id\":36813,\"sigla\":\"PPS\",\"nome\":\"Partido Popular Socialista\",\"uri\":\"https://dadosabertos.camara.leg.br/api/v2/partidos/36813\"},{\"id\":36814,\"sigla\":\"PR\",\"nome\":\"Partido da República\",\"uri\":\"https://dadosabertos.camara.leg.br/api/v2/partidos/36814\"},{\"id\":36815,\"sigla\":\"PRB\",\"nome\":\"Partido Republicano Brasileiro\",\"uri\":\"https://dadosabertos.camara.leg.br/api/v2/partidos/36815\"},{\"id\":36763,\"sigla\":\"PROS\",\"nome\":\"Partido Republicano da Ordem Social\",\"uri\":\"https://dadosabertos.camara.leg.br/api/v2/partidos/36763\"},{\"id\":36824,\"sigla\":\"PRP\",\"nome\":\"Partido Republicano Progressista\",\"uri\":\"https://dadosabertos.camara.leg.br/api/v2/partidos/36824\"},{\"id\":36829,\"sigla\":\"PRTB\",\"nome\":\"Partido Renovador Trabalhista Brasileiro\",\"uri\":\"https://dadosabertos.camara.leg.br/api/v2/partidos/36829\"},{\"id\":36832,\"sigla\":\"PSB\",\"nome\":\"Partido Socialista Brasileiro\",\"uri\":\"https://dadosabertos.camara.leg.br/api/v2/partidos/36832\"},{\"id\":36833,\"sigla\":\"PSC\",\"nome\":\"Partido Social Cristão\",\"uri\":\"https://dadosabertos.camara.leg.br/api/v2/partidos/36833\"},{\"id\":36834,\"sigla\":\"PSD\",\"nome\":\"Partido Social Democrático\",\"uri\":\"https://dadosabertos.camara.leg.br/api/v2/partidos/36834\"},{\"id\":36835,\"sigla\":\"PSDB\",\"nome\":\"Partido da Social Democracia Brasileira\",\"uri\":\"https://dadosabertos.camara.leg.br/api/v2/partidos/36835\"},{\"id\":36836,\"sigla\":\"PSDC\",\"nome\":\"Partido Social Democrata Cristão\",\"uri\":\"https://dadosabertos.camara.leg.br/api/v2/partidos/36836\"},{\"id\":36837,\"sigla\":\"PSL\",\"nome\":\"Partido Social Liberal\",\"uri\":\"https://dadosabertos.camara.leg.br/api/v2/partidos/36837\"},{\"id\":36839,\"sigla\":\"PSOL\",\"nome\":\"Partido Socialismo e Liberdade\",\"uri\":\"https://dadosabertos.camara.leg.br/api/v2/partidos/36839\"},{\"id\":36844,\"sigla\":\"PT\",\"nome\":\"Partido dos Trabalhadores\",\"uri\":\"https://dadosabertos.camara.leg.br/api/v2/partidos/36844\"},{\"id\":36845,\"sigla\":\"PTB\",\"nome\":\"Partido Trabalhista Brasileiro\",\"uri\":\"https://dadosabertos.camara.leg.br/api/v2/partidos/36845\"},{\"id\":36846,\"sigla\":\"PTC\",\"nome\":\"Partido Trabalhista Cristão\",\"uri\":\"https://dadosabertos.camara.leg.br/api/v2/partidos/36846\"},{\"id\":36847,\"sigla\":\"PTdoB\",\"nome\":\"Partido Trabalhista do Brasil\",\"uri\":\"https://dadosabertos.camara.leg.br/api/v2/partidos/36847\"},{\"id\":36848,\"sigla\":\"PTN\",\"nome\":\"Partido Trabalhista Nacional\",\"uri\":\"https://dadosabertos.camara.leg.br/api/v2/partidos/36848\"},{\"id\":36851,\"sigla\":\"PV\",\"nome\":\"Partido Verde\",\"uri\":\"https://dadosabertos.camara.leg.br/api/v2/partidos/36851\"},{\"id\":36886,\"sigla\":\"REDE\",\"nome\":\"Rede Sustentabilidade\",\"uri\":\"https://dadosabertos.camara.leg.br/api/v2/partidos/36886\"},{\"id\":36852,\"sigla\":\"S.PART.\",\"nome\":\"Sem Partido\",\"uri\":\"https://dadosabertos.camara.leg.br/api/v2/partidos/36852\"},{\"id\":36765,\"sigla\":\"SD\",\"nome\":\"Solidariedade\",\"uri\":\"https://dadosabertos.camara.leg.br/api/v2/partidos/36765\"},{\"id\":37904,\"sigla\":\"SOLIDARIEDADE\",\"nome\":\"Solidariedade\",\"uri\":\"https://dadosabertos.camara.leg.br/api/v2/partidos/37904\"}],\"links\":[{\"rel\":\"self\",\"href\":\"https://dadosabertos.camara.leg.br/api/v2/partidos?itens=100&ordem=ASC&ordenarPor=sigla\"},{\"rel\":\"first\",\"href\":\"https://dadosabertos.camara.leg.br/api/v2/partidos?&ordem=ASC&ordenarPor=sigla&pagina=1&itens=100\"},{\"rel\":\"last\",\"href\":\"https://dadosabertos.camara.leg.br/api/v2/partidos?&ordem=ASC&ordenarPor=sigla&pagina=1&itens=100\"}]}'"
      ]
     },
     "execution_count": 21,
     "metadata": {},
     "output_type": "execute_result"
    }
   ],
   "source": [
    "#obter os dados\n",
    "\n",
    "resposta = requests.get(url)\n",
    "\n",
    "#retorno da resposta\n",
    "\n",
    "resposta.text"
   ]
  },
  {
   "cell_type": "code",
   "execution_count": 26,
   "metadata": {},
   "outputs": [],
   "source": [
    "#converter a resposta da api para um dataframe\n",
    "df = pd.DataFrame(resposta.json()['dados'])"
   ]
  },
  {
   "cell_type": "code",
   "execution_count": 28,
   "metadata": {},
   "outputs": [
    {
     "data": {
      "text/html": [
       "<div>\n",
       "<style scoped>\n",
       "    .dataframe tbody tr th:only-of-type {\n",
       "        vertical-align: middle;\n",
       "    }\n",
       "\n",
       "    .dataframe tbody tr th {\n",
       "        vertical-align: top;\n",
       "    }\n",
       "\n",
       "    .dataframe thead th {\n",
       "        text-align: right;\n",
       "    }\n",
       "</style>\n",
       "<table border=\"1\" class=\"dataframe\">\n",
       "  <thead>\n",
       "    <tr style=\"text-align: right;\">\n",
       "      <th></th>\n",
       "      <th>id</th>\n",
       "      <th>nome</th>\n",
       "      <th>sigla</th>\n",
       "      <th>uri</th>\n",
       "    </tr>\n",
       "  </thead>\n",
       "  <tbody>\n",
       "    <tr>\n",
       "      <th>0</th>\n",
       "      <td>36898</td>\n",
       "      <td>Avante</td>\n",
       "      <td>AVANTE</td>\n",
       "      <td>https://dadosabertos.camara.leg.br/api/v2/part...</td>\n",
       "    </tr>\n",
       "    <tr>\n",
       "      <th>1</th>\n",
       "      <td>37902</td>\n",
       "      <td>Democracia Cristã</td>\n",
       "      <td>DC</td>\n",
       "      <td>https://dadosabertos.camara.leg.br/api/v2/part...</td>\n",
       "    </tr>\n",
       "    <tr>\n",
       "      <th>2</th>\n",
       "      <td>36769</td>\n",
       "      <td>Democratas</td>\n",
       "      <td>DEM</td>\n",
       "      <td>https://dadosabertos.camara.leg.br/api/v2/part...</td>\n",
       "    </tr>\n",
       "    <tr>\n",
       "      <th>3</th>\n",
       "      <td>36899</td>\n",
       "      <td>Movimento Democrático Brasileiro</td>\n",
       "      <td>MDB</td>\n",
       "      <td>https://dadosabertos.camara.leg.br/api/v2/part...</td>\n",
       "    </tr>\n",
       "    <tr>\n",
       "      <th>4</th>\n",
       "      <td>37901</td>\n",
       "      <td>Partido Novo</td>\n",
       "      <td>NOVO</td>\n",
       "      <td>https://dadosabertos.camara.leg.br/api/v2/part...</td>\n",
       "    </tr>\n",
       "  </tbody>\n",
       "</table>\n",
       "</div>"
      ],
      "text/plain": [
       "      id                              nome   sigla  \\\n",
       "0  36898                            Avante  AVANTE   \n",
       "1  37902                 Democracia Cristã      DC   \n",
       "2  36769                        Democratas     DEM   \n",
       "3  36899  Movimento Democrático Brasileiro     MDB   \n",
       "4  37901                      Partido Novo    NOVO   \n",
       "\n",
       "                                                 uri  \n",
       "0  https://dadosabertos.camara.leg.br/api/v2/part...  \n",
       "1  https://dadosabertos.camara.leg.br/api/v2/part...  \n",
       "2  https://dadosabertos.camara.leg.br/api/v2/part...  \n",
       "3  https://dadosabertos.camara.leg.br/api/v2/part...  \n",
       "4  https://dadosabertos.camara.leg.br/api/v2/part...  "
      ]
     },
     "execution_count": 28,
     "metadata": {},
     "output_type": "execute_result"
    }
   ],
   "source": [
    "#exibindo as 05 primeiras linhas do DataFrame\n",
    "df.head()"
   ]
  },
  {
   "cell_type": "code",
   "execution_count": 32,
   "metadata": {},
   "outputs": [
    {
     "data": {
      "text/html": [
       "<div>\n",
       "<style scoped>\n",
       "    .dataframe tbody tr th:only-of-type {\n",
       "        vertical-align: middle;\n",
       "    }\n",
       "\n",
       "    .dataframe tbody tr th {\n",
       "        vertical-align: top;\n",
       "    }\n",
       "\n",
       "    .dataframe thead th {\n",
       "        text-align: right;\n",
       "    }\n",
       "</style>\n",
       "<table border=\"1\" class=\"dataframe\">\n",
       "  <thead>\n",
       "    <tr style=\"text-align: right;\">\n",
       "      <th></th>\n",
       "      <th>id</th>\n",
       "      <th>nome</th>\n",
       "      <th>sigla</th>\n",
       "      <th>uri</th>\n",
       "    </tr>\n",
       "  </thead>\n",
       "  <tbody>\n",
       "    <tr>\n",
       "      <th>35</th>\n",
       "      <td>36851</td>\n",
       "      <td>Partido Verde</td>\n",
       "      <td>PV</td>\n",
       "      <td>https://dadosabertos.camara.leg.br/api/v2/part...</td>\n",
       "    </tr>\n",
       "    <tr>\n",
       "      <th>36</th>\n",
       "      <td>36886</td>\n",
       "      <td>Rede Sustentabilidade</td>\n",
       "      <td>REDE</td>\n",
       "      <td>https://dadosabertos.camara.leg.br/api/v2/part...</td>\n",
       "    </tr>\n",
       "    <tr>\n",
       "      <th>37</th>\n",
       "      <td>36852</td>\n",
       "      <td>Sem Partido</td>\n",
       "      <td>S.PART.</td>\n",
       "      <td>https://dadosabertos.camara.leg.br/api/v2/part...</td>\n",
       "    </tr>\n",
       "    <tr>\n",
       "      <th>38</th>\n",
       "      <td>36765</td>\n",
       "      <td>Solidariedade</td>\n",
       "      <td>SD</td>\n",
       "      <td>https://dadosabertos.camara.leg.br/api/v2/part...</td>\n",
       "    </tr>\n",
       "    <tr>\n",
       "      <th>39</th>\n",
       "      <td>37904</td>\n",
       "      <td>Solidariedade</td>\n",
       "      <td>SOLIDARIEDADE</td>\n",
       "      <td>https://dadosabertos.camara.leg.br/api/v2/part...</td>\n",
       "    </tr>\n",
       "  </tbody>\n",
       "</table>\n",
       "</div>"
      ],
      "text/plain": [
       "       id                   nome          sigla  \\\n",
       "35  36851          Partido Verde             PV   \n",
       "36  36886  Rede Sustentabilidade           REDE   \n",
       "37  36852            Sem Partido        S.PART.   \n",
       "38  36765          Solidariedade             SD   \n",
       "39  37904          Solidariedade  SOLIDARIEDADE   \n",
       "\n",
       "                                                  uri  \n",
       "35  https://dadosabertos.camara.leg.br/api/v2/part...  \n",
       "36  https://dadosabertos.camara.leg.br/api/v2/part...  \n",
       "37  https://dadosabertos.camara.leg.br/api/v2/part...  \n",
       "38  https://dadosabertos.camara.leg.br/api/v2/part...  \n",
       "39  https://dadosabertos.camara.leg.br/api/v2/part...  "
      ]
     },
     "execution_count": 32,
     "metadata": {},
     "output_type": "execute_result"
    }
   ],
   "source": [
    "#exibindo as 05 ultimas linhas do DataFrame\n",
    "df.tail()"
   ]
  },
  {
   "cell_type": "code",
   "execution_count": 33,
   "metadata": {},
   "outputs": [
    {
     "data": {
      "text/plain": [
       "(40, 4)"
      ]
     },
     "execution_count": 33,
     "metadata": {},
     "output_type": "execute_result"
    }
   ],
   "source": [
    "#mostrando o tamanho do DataFrame\n",
    "df.shape"
   ]
  },
  {
   "cell_type": "code",
   "execution_count": 39,
   "metadata": {},
   "outputs": [
    {
     "data": {
      "text/plain": [
       "40"
      ]
     },
     "execution_count": 39,
     "metadata": {},
     "output_type": "execute_result"
    }
   ],
   "source": [
    "#Qual o número atual de partidos políticos\n",
    "df['sigla'].count()"
   ]
  },
  {
   "cell_type": "code",
   "execution_count": 40,
   "metadata": {},
   "outputs": [
    {
     "data": {
      "text/plain": [
       "0                                          Avante\n",
       "1                               Democracia Cristã\n",
       "2                                      Democratas\n",
       "3                Movimento Democrático Brasileiro\n",
       "4                                    Partido Novo\n",
       "5                                        Patriota\n",
       "6                     Partido Comunista do Brasil\n",
       "7                 Partido Democrático Trabalhista\n",
       "8                      Partido Ecológico Nacional\n",
       "9              Partido Humanista da Solidariedade\n",
       "10                   Partido da Mulher Brasileira\n",
       "11    Partido do Movimento Democrático Brasileiro\n",
       "12                Partido da Mobilização Nacional\n",
       "13                                        Podemos\n",
       "14                                  Progressistas\n",
       "15                           Partido Progressista\n",
       "16                           Partido Pátria Livre\n",
       "17                     Partido Popular Socialista\n",
       "18                           Partido da República\n",
       "19                 Partido Republicano Brasileiro\n",
       "20            Partido Republicano da Ordem Social\n",
       "21               Partido Republicano Progressista\n",
       "22       Partido Renovador Trabalhista Brasileiro\n",
       "23                  Partido Socialista Brasileiro\n",
       "24                         Partido Social Cristão\n",
       "25                     Partido Social Democrático\n",
       "26        Partido da Social Democracia Brasileira\n",
       "27               Partido Social Democrata Cristão\n",
       "28                         Partido Social Liberal\n",
       "29                 Partido Socialismo e Liberdade\n",
       "30                      Partido dos Trabalhadores\n",
       "31                 Partido Trabalhista Brasileiro\n",
       "32                    Partido Trabalhista Cristão\n",
       "33                  Partido Trabalhista do Brasil\n",
       "34                   Partido Trabalhista Nacional\n",
       "35                                  Partido Verde\n",
       "36                          Rede Sustentabilidade\n",
       "37                                    Sem Partido\n",
       "38                                  Solidariedade\n",
       "39                                  Solidariedade\n",
       "Name: nome, dtype: object"
      ]
     },
     "execution_count": 40,
     "metadata": {},
     "output_type": "execute_result"
    }
   ],
   "source": [
    "df['nome']"
   ]
  },
  {
   "cell_type": "code",
   "execution_count": 49,
   "metadata": {},
   "outputs": [
    {
     "data": {
      "text/plain": [
       "'AVANTE'"
      ]
     },
     "execution_count": 49,
     "metadata": {},
     "output_type": "execute_result"
    }
   ],
   "source": [
    "#Qualquer campo do DataFrame pode ser obtido\n",
    "#O iloc retorna retorna um campo com basee no seu índice (linha, coluna)\n",
    "\n",
    "df.iloc[0, 2]"
   ]
  },
  {
   "cell_type": "code",
   "execution_count": 48,
   "metadata": {},
   "outputs": [
    {
     "data": {
      "text/plain": [
       "'Avante'"
      ]
     },
     "execution_count": 48,
     "metadata": {},
     "output_type": "execute_result"
    }
   ],
   "source": [
    "# O loc retorna o campo com base no nome da coluna\n",
    "df.loc[0,'nome']"
   ]
  }
 ],
 "metadata": {
  "kernelspec": {
   "display_name": "Python 3",
   "language": "python",
   "name": "python3"
  },
  "language_info": {
   "codemirror_mode": {
    "name": "ipython",
    "version": 3
   },
   "file_extension": ".py",
   "mimetype": "text/x-python",
   "name": "python",
   "nbconvert_exporter": "python",
   "pygments_lexer": "ipython3",
   "version": "3.7.0"
  }
 },
 "nbformat": 4,
 "nbformat_minor": 2
}
